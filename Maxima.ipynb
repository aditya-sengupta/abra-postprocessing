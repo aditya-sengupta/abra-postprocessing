{
 "cells": [
  {
   "cell_type": "code",
   "execution_count": 8,
   "metadata": {},
   "outputs": [],
   "source": [
    "from astropy.table import Table\n",
    "from astropy.io import fits\n",
    "import numpy as np\n",
    "import matplotlib.pyplot as plt"
   ]
  },
  {
   "cell_type": "code",
   "execution_count": 51,
   "metadata": {},
   "outputs": [],
   "source": [
    "hdul = fits.open('maxima.fits')"
   ]
  },
  {
   "cell_type": "code",
   "execution_count": 10,
   "metadata": {},
   "outputs": [
    {
     "name": "stdout",
     "output_type": "stream",
     "text": [
      "Filename: maxima.fits\n",
      "No.    Name      Ver    Type      Cards   Dimensions   Format\n",
      "  0  PRIMARY       1 PrimaryHDU       5   ()      \n",
      "  1  maximap       1 BinTableHDU     19   1R x 4C   [5972E, 5972E, 5972E, 35664784E]   \n"
     ]
    }
   ],
   "source": [
    "fits.info('maxima.fits')"
   ]
  },
  {
   "cell_type": "code",
   "execution_count": 78,
   "metadata": {},
   "outputs": [
    {
     "data": {
      "text/plain": [
       "SIMPLE  =                    T / conforms to FITS standard                      \n",
       "BITPIX  =                    8 / array data type                                \n",
       "NAXIS   =                    0 / number of array dimensions                     \n",
       "EXTEND  =                    T                                                  "
      ]
     },
     "execution_count": 78,
     "metadata": {},
     "output_type": "execute_result"
    }
   ],
   "source": [
    "hdu = fits.PrimaryHDU()\n",
    "hdu.header\n",
    "# The Primary HDU does not have data"
   ]
  },
  {
   "cell_type": "code",
   "execution_count": 83,
   "metadata": {},
   "outputs": [
    {
     "name": "stdout",
     "output_type": "stream",
     "text": [
      "SIMPLE  =                    T /Written by IDL:  Thu Feb  7 18:35:08 2002       BITPIX  =                    8 /                                                NAXIS   =                    0 /                                                EXTEND  =                    T /File contains extensions                        DATE    = '2002-02-08'         /                                                END                                                                                                                                                                                                                                                                                                                                                                                                                                                                                                                                                                                                                                                                                                                                                                                                                                                                                                                                                                                                                                                                                                                                                                                                                                                                                                                                                                                                                                                                                                                                                                                                                                                                                                                                                                                                                                                                                                                                                                                                                                                                                                                                                                                                                                                                                                                                                                                                                                                                                                                                                                             \n"
     ]
    },
    {
     "data": {
      "text/plain": [
       "'File contains extensions'"
      ]
     },
     "execution_count": 83,
     "metadata": {},
     "output_type": "execute_result"
    }
   ],
   "source": [
    "hdr = hdul[0].header\n",
    "print(hdr)\n",
    "#for i in range(len(hdr)):\n",
    "#    print(hdr[i])\n",
    "\n",
    "hdr.comments['EXTEND']"
   ]
  },
  {
   "cell_type": "code",
   "execution_count": 86,
   "metadata": {},
   "outputs": [
    {
     "name": "stdout",
     "output_type": "stream",
     "text": [
      "BINTABLE\n",
      "8\n",
      "2\n",
      "142730800\n",
      "1\n",
      "0\n",
      "1\n",
      "4\n",
      "2002-02-08\n",
      "maximap\n",
      "5972E\n",
      "PIXEL RA [DEGREE]\n",
      "5972E\n",
      "PIXEL DEC [DEGREE]\n",
      "5972E\n",
      "MAP [UK]\n",
      "35664784E\n",
      "NOISE [UK^2]\n",
      "(5972,5972)\n"
     ]
    }
   ],
   "source": [
    "hdr2 = hdul[1].header\n",
    "#print(hdr2)\n",
    "for i in range(len(hdr2)):\n",
    "    print(hdr2[i])"
   ]
  },
  {
   "cell_type": "code",
   "execution_count": 52,
   "metadata": {},
   "outputs": [],
   "source": [
    "data = hdul[1].data[0]"
   ]
  },
  {
   "cell_type": "code",
   "execution_count": 53,
   "metadata": {},
   "outputs": [],
   "source": [
    "data0 = data[0]\n",
    "data1 = data[1]\n",
    "data2 = data[2]\n",
    "data3 = data[3]"
   ]
  },
  {
   "cell_type": "code",
   "execution_count": 109,
   "metadata": {},
   "outputs": [
    {
     "data": {
      "text/plain": [
       "[<matplotlib.lines.Line2D at 0x1859dfe1040>]"
      ]
     },
     "execution_count": 109,
     "metadata": {},
     "output_type": "execute_result"
    },
    {
     "data": {
      "image/png": "[encoded data removed]",
      "text/plain": [
       "<Figure size 432x288 with 1 Axes>"
      ]
     },
     "metadata": {
      "needs_background": "light"
     },
     "output_type": "display_data"
    },
    {
     "data": {
      "image/png": "[encoded data removed]",
      "text/plain": [
       "<Figure size 432x288 with 1 Axes>"
      ]
     },
     "metadata": {
      "needs_background": "light"
     },
     "output_type": "display_data"
    }
   ],
   "source": [
    "plt.figure()\n",
    "plt.plot(data1,data2)\n",
    "plt.figure()\n",
    "plt.plot(data0,data1)"
   ]
  },
  {
   "cell_type": "code",
   "execution_count": 16,
   "metadata": {},
   "outputs": [],
   "source": [
    "events = Table.read('maxima.fits', hdu=1)"
   ]
  },
  {
   "cell_type": "code",
   "execution_count": 23,
   "metadata": {},
   "outputs": [
    {
     "name": "stdout",
     "output_type": "stream",
     "text": [
      "<TableColumns names=('PIXEL RA [DEGREE]','PIXEL DEC [DEGREE]','MAP [UK]','NOISE [UK^2]')>\n",
      "None\n"
     ]
    }
   ],
   "source": [
    "print(events.columns)\n",
    "print(events['MAP [UK]'].unit)"
   ]
  },
  {
   "cell_type": "code",
   "execution_count": 115,
   "metadata": {},
   "outputs": [
    {
     "name": "stdout",
     "output_type": "stream",
     "text": [
      "PIXEL RA [DEGREE] [5972]\n",
      "------------------------\n",
      "         225.78 .. 237.0\n",
      "PIXEL DEC [DEGREE] [5972]\n",
      "-------------------------\n",
      "           51.967 .. 64.5\n",
      "    MAP [UK] [5972]    \n",
      "-----------------------\n",
      "-60.087994 .. 201.96841\n",
      "NOISE [UK^2] [5972,5972]\n",
      "------------------------\n",
      "  128133.23 .. 11818.431\n",
      "None\n"
     ]
    }
   ],
   "source": [
    "# Print data corresponding to each column name\n",
    "print(events['PIXEL RA [DEGREE]'])\n",
    "print(events['PIXEL DEC [DEGREE]'])\n",
    "print(events['MAP [UK]'])\n",
    "print(events['NOISE [UK^2]'])\n",
    "\n",
    "print(events['MAP [UK]'].unit) # No units listed for data, but UK stands for micro Kelvins"
   ]
  },
  {
   "cell_type": "code",
   "execution_count": 87,
   "metadata": {},
   "outputs": [],
   "source": [
    "#prints out all 5000+ data points for data2, corresponding to 'MAP [UK]'\n",
    "#for i in range(len(data2)):\n",
    "#    print(data2[i])"
   ]
  },
  {
   "cell_type": "code",
   "execution_count": 112,
   "metadata": {},
   "outputs": [
    {
     "data": {
      "text/plain": [
       "<matplotlib.collections.PathCollection at 0x1859f0bc700>"
      ]
     },
     "execution_count": 112,
     "metadata": {},
     "output_type": "execute_result"
    },
    {
     "data": {
      "image/png": "[encoded data removed]",
      "text/plain": [
       "<Figure size 432x288 with 1 Axes>"
      ]
     },
     "metadata": {
      "needs_background": "light"
     },
     "output_type": "display_data"
    }
   ],
   "source": [
    "# Notes taken from https://lambda.gsfc.nasa.gov/product/suborbit/maxima_skymap.cfm\n",
    "y = data1\n",
    "x = []\n",
    "for i in range(len(data0)):\n",
    "    x.append((data0[i]-14.8)*np.cos(data1[i]))\n",
    "\n",
    "plt.scatter(x,y)"
   ]
  },
  {
   "cell_type": "code",
   "execution_count": null,
   "metadata": {},
   "outputs": [],
   "source": []
  }
 ],
 "metadata": {
  "kernelspec": {
   "display_name": "Python 3",
   "language": "python",
   "name": "python3"
  },
  "language_info": {
   "codemirror_mode": {
    "name": "ipython",
    "version": 3
   },
   "file_extension": ".py",
   "mimetype": "text/x-python",
   "name": "python",
   "nbconvert_exporter": "python",
   "pygments_lexer": "ipython3",
   "version": "3.8.1"
  }
 },
 "nbformat": 4,
 "nbformat_minor": 4
}
